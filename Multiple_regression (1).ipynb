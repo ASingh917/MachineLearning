{
  "nbformat": 4,
  "nbformat_minor": 0,
  "metadata": {
    "colab": {
      "provenance": []
    },
    "kernelspec": {
      "name": "python3",
      "display_name": "Python 3"
    },
    "language_info": {
      "name": "python"
    }
  },
  "cells": [
    {
      "cell_type": "code",
      "execution_count": 1,
      "metadata": {
        "id": "JxHKdsfUosJp"
      },
      "outputs": [],
      "source": [
        "import numpy as np\n",
        "import pandas as pd"
      ]
    },
    {
      "cell_type": "code",
      "source": [
        "data = pd.read_csv('50_Startups.csv')"
      ],
      "metadata": {
        "id": "gSBlGFtrozUG"
      },
      "execution_count": 2,
      "outputs": []
    },
    {
      "cell_type": "code",
      "source": [
        "data"
      ],
      "metadata": {
        "colab": {
          "base_uri": "https://localhost:8080/",
          "height": 1000
        },
        "id": "TmBLyONto3JZ",
        "outputId": "a6a65317-96ac-408e-cec7-237b15b1558d"
      },
      "execution_count": 3,
      "outputs": [
        {
          "output_type": "execute_result",
          "data": {
            "text/plain": [
              "    R&D Spend  Administration  Marketing Spend       State     Profit\n",
              "0   165349.20       136897.80        471784.10    New York  192261.83\n",
              "1   162597.70       151377.59        443898.53  California  191792.06\n",
              "2   153441.51       101145.55        407934.54     Florida  191050.39\n",
              "3   144372.41       118671.85        383199.62    New York  182901.99\n",
              "4   142107.34        91391.77        366168.42     Florida  166187.94\n",
              "5   131876.90        99814.71        362861.36    New York  156991.12\n",
              "6   134615.46       147198.87        127716.82  California  156122.51\n",
              "7   130298.13       145530.06        323876.68     Florida  155752.60\n",
              "8   120542.52       148718.95        311613.29    New York  152211.77\n",
              "9   123334.88       108679.17        304981.62  California  149759.96\n",
              "10  101913.08       110594.11        229160.95     Florida  146121.95\n",
              "11  100671.96        91790.61        249744.55  California  144259.40\n",
              "12   93863.75       127320.38        249839.44     Florida  141585.52\n",
              "13   91992.39       135495.07        252664.93  California  134307.35\n",
              "14  119943.24       156547.42        256512.92     Florida  132602.65\n",
              "15  114523.61       122616.84        261776.23    New York  129917.04\n",
              "16   78013.11       121597.55        264346.06  California  126992.93\n",
              "17   94657.16       145077.58        282574.31    New York  125370.37\n",
              "18   91749.16       114175.79        294919.57     Florida  124266.90\n",
              "19   86419.70       153514.11             0.00    New York  122776.86\n",
              "20   76253.86       113867.30        298664.47  California  118474.03\n",
              "21   78389.47       153773.43        299737.29    New York  111313.02\n",
              "22   73994.56       122782.75        303319.26     Florida  110352.25\n",
              "23   67532.53       105751.03        304768.73     Florida  108733.99\n",
              "24   77044.01        99281.34        140574.81    New York  108552.04\n",
              "25   64664.71       139553.16        137962.62  California  107404.34\n",
              "26   75328.87       144135.98        134050.07     Florida  105733.54\n",
              "27   72107.60       127864.55        353183.81    New York  105008.31\n",
              "28   66051.52       182645.56        118148.20     Florida  103282.38\n",
              "29   65605.48       153032.06        107138.38    New York  101004.64\n",
              "30   61994.48       115641.28         91131.24     Florida   99937.59\n",
              "31   61136.38       152701.92         88218.23    New York   97483.56\n",
              "32   63408.86       129219.61         46085.25  California   97427.84\n",
              "33   55493.95       103057.49        214634.81     Florida   96778.92\n",
              "34   46426.07       157693.92        210797.67  California   96712.80\n",
              "35   46014.02        85047.44        205517.64    New York   96479.51\n",
              "36   28663.76       127056.21        201126.82     Florida   90708.19\n",
              "37   44069.95        51283.14        197029.42  California   89949.14\n",
              "38   20229.59        65947.93        185265.10    New York   81229.06\n",
              "39   38558.51        82982.09        174999.30  California   81005.76\n",
              "40   28754.33       118546.05        172795.67  California   78239.91\n",
              "41   27892.92        84710.77        164470.71     Florida   77798.83\n",
              "42   23640.93        96189.63        148001.11  California   71498.49\n",
              "43   15505.73       127382.30         35534.17    New York   69758.98\n",
              "44   22177.74       154806.14         28334.72  California   65200.33\n",
              "45    1000.23       124153.04          1903.93    New York   64926.08\n",
              "46    1315.46       115816.21        297114.46     Florida   49490.75\n",
              "47       0.00       135426.92             0.00  California   42559.73\n",
              "48     542.05        51743.15             0.00    New York   35673.41\n",
              "49       0.00       116983.80         45173.06  California   14681.40"
            ],
            "text/html": [
              "\n",
              "  <div id=\"df-2b35828d-1c84-475d-9051-c957da137e28\" class=\"colab-df-container\">\n",
              "    <div>\n",
              "<style scoped>\n",
              "    .dataframe tbody tr th:only-of-type {\n",
              "        vertical-align: middle;\n",
              "    }\n",
              "\n",
              "    .dataframe tbody tr th {\n",
              "        vertical-align: top;\n",
              "    }\n",
              "\n",
              "    .dataframe thead th {\n",
              "        text-align: right;\n",
              "    }\n",
              "</style>\n",
              "<table border=\"1\" class=\"dataframe\">\n",
              "  <thead>\n",
              "    <tr style=\"text-align: right;\">\n",
              "      <th></th>\n",
              "      <th>R&amp;D Spend</th>\n",
              "      <th>Administration</th>\n",
              "      <th>Marketing Spend</th>\n",
              "      <th>State</th>\n",
              "      <th>Profit</th>\n",
              "    </tr>\n",
              "  </thead>\n",
              "  <tbody>\n",
              "    <tr>\n",
              "      <th>0</th>\n",
              "      <td>165349.20</td>\n",
              "      <td>136897.80</td>\n",
              "      <td>471784.10</td>\n",
              "      <td>New York</td>\n",
              "      <td>192261.83</td>\n",
              "    </tr>\n",
              "    <tr>\n",
              "      <th>1</th>\n",
              "      <td>162597.70</td>\n",
              "      <td>151377.59</td>\n",
              "      <td>443898.53</td>\n",
              "      <td>California</td>\n",
              "      <td>191792.06</td>\n",
              "    </tr>\n",
              "    <tr>\n",
              "      <th>2</th>\n",
              "      <td>153441.51</td>\n",
              "      <td>101145.55</td>\n",
              "      <td>407934.54</td>\n",
              "      <td>Florida</td>\n",
              "      <td>191050.39</td>\n",
              "    </tr>\n",
              "    <tr>\n",
              "      <th>3</th>\n",
              "      <td>144372.41</td>\n",
              "      <td>118671.85</td>\n",
              "      <td>383199.62</td>\n",
              "      <td>New York</td>\n",
              "      <td>182901.99</td>\n",
              "    </tr>\n",
              "    <tr>\n",
              "      <th>4</th>\n",
              "      <td>142107.34</td>\n",
              "      <td>91391.77</td>\n",
              "      <td>366168.42</td>\n",
              "      <td>Florida</td>\n",
              "      <td>166187.94</td>\n",
              "    </tr>\n",
              "    <tr>\n",
              "      <th>5</th>\n",
              "      <td>131876.90</td>\n",
              "      <td>99814.71</td>\n",
              "      <td>362861.36</td>\n",
              "      <td>New York</td>\n",
              "      <td>156991.12</td>\n",
              "    </tr>\n",
              "    <tr>\n",
              "      <th>6</th>\n",
              "      <td>134615.46</td>\n",
              "      <td>147198.87</td>\n",
              "      <td>127716.82</td>\n",
              "      <td>California</td>\n",
              "      <td>156122.51</td>\n",
              "    </tr>\n",
              "    <tr>\n",
              "      <th>7</th>\n",
              "      <td>130298.13</td>\n",
              "      <td>145530.06</td>\n",
              "      <td>323876.68</td>\n",
              "      <td>Florida</td>\n",
              "      <td>155752.60</td>\n",
              "    </tr>\n",
              "    <tr>\n",
              "      <th>8</th>\n",
              "      <td>120542.52</td>\n",
              "      <td>148718.95</td>\n",
              "      <td>311613.29</td>\n",
              "      <td>New York</td>\n",
              "      <td>152211.77</td>\n",
              "    </tr>\n",
              "    <tr>\n",
              "      <th>9</th>\n",
              "      <td>123334.88</td>\n",
              "      <td>108679.17</td>\n",
              "      <td>304981.62</td>\n",
              "      <td>California</td>\n",
              "      <td>149759.96</td>\n",
              "    </tr>\n",
              "    <tr>\n",
              "      <th>10</th>\n",
              "      <td>101913.08</td>\n",
              "      <td>110594.11</td>\n",
              "      <td>229160.95</td>\n",
              "      <td>Florida</td>\n",
              "      <td>146121.95</td>\n",
              "    </tr>\n",
              "    <tr>\n",
              "      <th>11</th>\n",
              "      <td>100671.96</td>\n",
              "      <td>91790.61</td>\n",
              "      <td>249744.55</td>\n",
              "      <td>California</td>\n",
              "      <td>144259.40</td>\n",
              "    </tr>\n",
              "    <tr>\n",
              "      <th>12</th>\n",
              "      <td>93863.75</td>\n",
              "      <td>127320.38</td>\n",
              "      <td>249839.44</td>\n",
              "      <td>Florida</td>\n",
              "      <td>141585.52</td>\n",
              "    </tr>\n",
              "    <tr>\n",
              "      <th>13</th>\n",
              "      <td>91992.39</td>\n",
              "      <td>135495.07</td>\n",
              "      <td>252664.93</td>\n",
              "      <td>California</td>\n",
              "      <td>134307.35</td>\n",
              "    </tr>\n",
              "    <tr>\n",
              "      <th>14</th>\n",
              "      <td>119943.24</td>\n",
              "      <td>156547.42</td>\n",
              "      <td>256512.92</td>\n",
              "      <td>Florida</td>\n",
              "      <td>132602.65</td>\n",
              "    </tr>\n",
              "    <tr>\n",
              "      <th>15</th>\n",
              "      <td>114523.61</td>\n",
              "      <td>122616.84</td>\n",
              "      <td>261776.23</td>\n",
              "      <td>New York</td>\n",
              "      <td>129917.04</td>\n",
              "    </tr>\n",
              "    <tr>\n",
              "      <th>16</th>\n",
              "      <td>78013.11</td>\n",
              "      <td>121597.55</td>\n",
              "      <td>264346.06</td>\n",
              "      <td>California</td>\n",
              "      <td>126992.93</td>\n",
              "    </tr>\n",
              "    <tr>\n",
              "      <th>17</th>\n",
              "      <td>94657.16</td>\n",
              "      <td>145077.58</td>\n",
              "      <td>282574.31</td>\n",
              "      <td>New York</td>\n",
              "      <td>125370.37</td>\n",
              "    </tr>\n",
              "    <tr>\n",
              "      <th>18</th>\n",
              "      <td>91749.16</td>\n",
              "      <td>114175.79</td>\n",
              "      <td>294919.57</td>\n",
              "      <td>Florida</td>\n",
              "      <td>124266.90</td>\n",
              "    </tr>\n",
              "    <tr>\n",
              "      <th>19</th>\n",
              "      <td>86419.70</td>\n",
              "      <td>153514.11</td>\n",
              "      <td>0.00</td>\n",
              "      <td>New York</td>\n",
              "      <td>122776.86</td>\n",
              "    </tr>\n",
              "    <tr>\n",
              "      <th>20</th>\n",
              "      <td>76253.86</td>\n",
              "      <td>113867.30</td>\n",
              "      <td>298664.47</td>\n",
              "      <td>California</td>\n",
              "      <td>118474.03</td>\n",
              "    </tr>\n",
              "    <tr>\n",
              "      <th>21</th>\n",
              "      <td>78389.47</td>\n",
              "      <td>153773.43</td>\n",
              "      <td>299737.29</td>\n",
              "      <td>New York</td>\n",
              "      <td>111313.02</td>\n",
              "    </tr>\n",
              "    <tr>\n",
              "      <th>22</th>\n",
              "      <td>73994.56</td>\n",
              "      <td>122782.75</td>\n",
              "      <td>303319.26</td>\n",
              "      <td>Florida</td>\n",
              "      <td>110352.25</td>\n",
              "    </tr>\n",
              "    <tr>\n",
              "      <th>23</th>\n",
              "      <td>67532.53</td>\n",
              "      <td>105751.03</td>\n",
              "      <td>304768.73</td>\n",
              "      <td>Florida</td>\n",
              "      <td>108733.99</td>\n",
              "    </tr>\n",
              "    <tr>\n",
              "      <th>24</th>\n",
              "      <td>77044.01</td>\n",
              "      <td>99281.34</td>\n",
              "      <td>140574.81</td>\n",
              "      <td>New York</td>\n",
              "      <td>108552.04</td>\n",
              "    </tr>\n",
              "    <tr>\n",
              "      <th>25</th>\n",
              "      <td>64664.71</td>\n",
              "      <td>139553.16</td>\n",
              "      <td>137962.62</td>\n",
              "      <td>California</td>\n",
              "      <td>107404.34</td>\n",
              "    </tr>\n",
              "    <tr>\n",
              "      <th>26</th>\n",
              "      <td>75328.87</td>\n",
              "      <td>144135.98</td>\n",
              "      <td>134050.07</td>\n",
              "      <td>Florida</td>\n",
              "      <td>105733.54</td>\n",
              "    </tr>\n",
              "    <tr>\n",
              "      <th>27</th>\n",
              "      <td>72107.60</td>\n",
              "      <td>127864.55</td>\n",
              "      <td>353183.81</td>\n",
              "      <td>New York</td>\n",
              "      <td>105008.31</td>\n",
              "    </tr>\n",
              "    <tr>\n",
              "      <th>28</th>\n",
              "      <td>66051.52</td>\n",
              "      <td>182645.56</td>\n",
              "      <td>118148.20</td>\n",
              "      <td>Florida</td>\n",
              "      <td>103282.38</td>\n",
              "    </tr>\n",
              "    <tr>\n",
              "      <th>29</th>\n",
              "      <td>65605.48</td>\n",
              "      <td>153032.06</td>\n",
              "      <td>107138.38</td>\n",
              "      <td>New York</td>\n",
              "      <td>101004.64</td>\n",
              "    </tr>\n",
              "    <tr>\n",
              "      <th>30</th>\n",
              "      <td>61994.48</td>\n",
              "      <td>115641.28</td>\n",
              "      <td>91131.24</td>\n",
              "      <td>Florida</td>\n",
              "      <td>99937.59</td>\n",
              "    </tr>\n",
              "    <tr>\n",
              "      <th>31</th>\n",
              "      <td>61136.38</td>\n",
              "      <td>152701.92</td>\n",
              "      <td>88218.23</td>\n",
              "      <td>New York</td>\n",
              "      <td>97483.56</td>\n",
              "    </tr>\n",
              "    <tr>\n",
              "      <th>32</th>\n",
              "      <td>63408.86</td>\n",
              "      <td>129219.61</td>\n",
              "      <td>46085.25</td>\n",
              "      <td>California</td>\n",
              "      <td>97427.84</td>\n",
              "    </tr>\n",
              "    <tr>\n",
              "      <th>33</th>\n",
              "      <td>55493.95</td>\n",
              "      <td>103057.49</td>\n",
              "      <td>214634.81</td>\n",
              "      <td>Florida</td>\n",
              "      <td>96778.92</td>\n",
              "    </tr>\n",
              "    <tr>\n",
              "      <th>34</th>\n",
              "      <td>46426.07</td>\n",
              "      <td>157693.92</td>\n",
              "      <td>210797.67</td>\n",
              "      <td>California</td>\n",
              "      <td>96712.80</td>\n",
              "    </tr>\n",
              "    <tr>\n",
              "      <th>35</th>\n",
              "      <td>46014.02</td>\n",
              "      <td>85047.44</td>\n",
              "      <td>205517.64</td>\n",
              "      <td>New York</td>\n",
              "      <td>96479.51</td>\n",
              "    </tr>\n",
              "    <tr>\n",
              "      <th>36</th>\n",
              "      <td>28663.76</td>\n",
              "      <td>127056.21</td>\n",
              "      <td>201126.82</td>\n",
              "      <td>Florida</td>\n",
              "      <td>90708.19</td>\n",
              "    </tr>\n",
              "    <tr>\n",
              "      <th>37</th>\n",
              "      <td>44069.95</td>\n",
              "      <td>51283.14</td>\n",
              "      <td>197029.42</td>\n",
              "      <td>California</td>\n",
              "      <td>89949.14</td>\n",
              "    </tr>\n",
              "    <tr>\n",
              "      <th>38</th>\n",
              "      <td>20229.59</td>\n",
              "      <td>65947.93</td>\n",
              "      <td>185265.10</td>\n",
              "      <td>New York</td>\n",
              "      <td>81229.06</td>\n",
              "    </tr>\n",
              "    <tr>\n",
              "      <th>39</th>\n",
              "      <td>38558.51</td>\n",
              "      <td>82982.09</td>\n",
              "      <td>174999.30</td>\n",
              "      <td>California</td>\n",
              "      <td>81005.76</td>\n",
              "    </tr>\n",
              "    <tr>\n",
              "      <th>40</th>\n",
              "      <td>28754.33</td>\n",
              "      <td>118546.05</td>\n",
              "      <td>172795.67</td>\n",
              "      <td>California</td>\n",
              "      <td>78239.91</td>\n",
              "    </tr>\n",
              "    <tr>\n",
              "      <th>41</th>\n",
              "      <td>27892.92</td>\n",
              "      <td>84710.77</td>\n",
              "      <td>164470.71</td>\n",
              "      <td>Florida</td>\n",
              "      <td>77798.83</td>\n",
              "    </tr>\n",
              "    <tr>\n",
              "      <th>42</th>\n",
              "      <td>23640.93</td>\n",
              "      <td>96189.63</td>\n",
              "      <td>148001.11</td>\n",
              "      <td>California</td>\n",
              "      <td>71498.49</td>\n",
              "    </tr>\n",
              "    <tr>\n",
              "      <th>43</th>\n",
              "      <td>15505.73</td>\n",
              "      <td>127382.30</td>\n",
              "      <td>35534.17</td>\n",
              "      <td>New York</td>\n",
              "      <td>69758.98</td>\n",
              "    </tr>\n",
              "    <tr>\n",
              "      <th>44</th>\n",
              "      <td>22177.74</td>\n",
              "      <td>154806.14</td>\n",
              "      <td>28334.72</td>\n",
              "      <td>California</td>\n",
              "      <td>65200.33</td>\n",
              "    </tr>\n",
              "    <tr>\n",
              "      <th>45</th>\n",
              "      <td>1000.23</td>\n",
              "      <td>124153.04</td>\n",
              "      <td>1903.93</td>\n",
              "      <td>New York</td>\n",
              "      <td>64926.08</td>\n",
              "    </tr>\n",
              "    <tr>\n",
              "      <th>46</th>\n",
              "      <td>1315.46</td>\n",
              "      <td>115816.21</td>\n",
              "      <td>297114.46</td>\n",
              "      <td>Florida</td>\n",
              "      <td>49490.75</td>\n",
              "    </tr>\n",
              "    <tr>\n",
              "      <th>47</th>\n",
              "      <td>0.00</td>\n",
              "      <td>135426.92</td>\n",
              "      <td>0.00</td>\n",
              "      <td>California</td>\n",
              "      <td>42559.73</td>\n",
              "    </tr>\n",
              "    <tr>\n",
              "      <th>48</th>\n",
              "      <td>542.05</td>\n",
              "      <td>51743.15</td>\n",
              "      <td>0.00</td>\n",
              "      <td>New York</td>\n",
              "      <td>35673.41</td>\n",
              "    </tr>\n",
              "    <tr>\n",
              "      <th>49</th>\n",
              "      <td>0.00</td>\n",
              "      <td>116983.80</td>\n",
              "      <td>45173.06</td>\n",
              "      <td>California</td>\n",
              "      <td>14681.40</td>\n",
              "    </tr>\n",
              "  </tbody>\n",
              "</table>\n",
              "</div>\n",
              "    <div class=\"colab-df-buttons\">\n",
              "\n",
              "  <div class=\"colab-df-container\">\n",
              "    <button class=\"colab-df-convert\" onclick=\"convertToInteractive('df-2b35828d-1c84-475d-9051-c957da137e28')\"\n",
              "            title=\"Convert this dataframe to an interactive table.\"\n",
              "            style=\"display:none;\">\n",
              "\n",
              "  <svg xmlns=\"http://www.w3.org/2000/svg\" height=\"24px\" viewBox=\"0 -960 960 960\">\n",
              "    <path d=\"M120-120v-720h720v720H120Zm60-500h600v-160H180v160Zm220 220h160v-160H400v160Zm0 220h160v-160H400v160ZM180-400h160v-160H180v160Zm440 0h160v-160H620v160ZM180-180h160v-160H180v160Zm440 0h160v-160H620v160Z\"/>\n",
              "  </svg>\n",
              "    </button>\n",
              "\n",
              "  <style>\n",
              "    .colab-df-container {\n",
              "      display:flex;\n",
              "      gap: 12px;\n",
              "    }\n",
              "\n",
              "    .colab-df-convert {\n",
              "      background-color: #E8F0FE;\n",
              "      border: none;\n",
              "      border-radius: 50%;\n",
              "      cursor: pointer;\n",
              "      display: none;\n",
              "      fill: #1967D2;\n",
              "      height: 32px;\n",
              "      padding: 0 0 0 0;\n",
              "      width: 32px;\n",
              "    }\n",
              "\n",
              "    .colab-df-convert:hover {\n",
              "      background-color: #E2EBFA;\n",
              "      box-shadow: 0px 1px 2px rgba(60, 64, 67, 0.3), 0px 1px 3px 1px rgba(60, 64, 67, 0.15);\n",
              "      fill: #174EA6;\n",
              "    }\n",
              "\n",
              "    .colab-df-buttons div {\n",
              "      margin-bottom: 4px;\n",
              "    }\n",
              "\n",
              "    [theme=dark] .colab-df-convert {\n",
              "      background-color: #3B4455;\n",
              "      fill: #D2E3FC;\n",
              "    }\n",
              "\n",
              "    [theme=dark] .colab-df-convert:hover {\n",
              "      background-color: #434B5C;\n",
              "      box-shadow: 0px 1px 3px 1px rgba(0, 0, 0, 0.15);\n",
              "      filter: drop-shadow(0px 1px 2px rgba(0, 0, 0, 0.3));\n",
              "      fill: #FFFFFF;\n",
              "    }\n",
              "  </style>\n",
              "\n",
              "    <script>\n",
              "      const buttonEl =\n",
              "        document.querySelector('#df-2b35828d-1c84-475d-9051-c957da137e28 button.colab-df-convert');\n",
              "      buttonEl.style.display =\n",
              "        google.colab.kernel.accessAllowed ? 'block' : 'none';\n",
              "\n",
              "      async function convertToInteractive(key) {\n",
              "        const element = document.querySelector('#df-2b35828d-1c84-475d-9051-c957da137e28');\n",
              "        const dataTable =\n",
              "          await google.colab.kernel.invokeFunction('convertToInteractive',\n",
              "                                                    [key], {});\n",
              "        if (!dataTable) return;\n",
              "\n",
              "        const docLinkHtml = 'Like what you see? Visit the ' +\n",
              "          '<a target=\"_blank\" href=https://colab.research.google.com/notebooks/data_table.ipynb>data table notebook</a>'\n",
              "          + ' to learn more about interactive tables.';\n",
              "        element.innerHTML = '';\n",
              "        dataTable['output_type'] = 'display_data';\n",
              "        await google.colab.output.renderOutput(dataTable, element);\n",
              "        const docLink = document.createElement('div');\n",
              "        docLink.innerHTML = docLinkHtml;\n",
              "        element.appendChild(docLink);\n",
              "      }\n",
              "    </script>\n",
              "  </div>\n",
              "\n",
              "\n",
              "<div id=\"df-30485c0f-a333-42d9-9717-ba3ecdb72ef4\">\n",
              "  <button class=\"colab-df-quickchart\" onclick=\"quickchart('df-30485c0f-a333-42d9-9717-ba3ecdb72ef4')\"\n",
              "            title=\"Suggest charts\"\n",
              "            style=\"display:none;\">\n",
              "\n",
              "<svg xmlns=\"http://www.w3.org/2000/svg\" height=\"24px\"viewBox=\"0 0 24 24\"\n",
              "     width=\"24px\">\n",
              "    <g>\n",
              "        <path d=\"M19 3H5c-1.1 0-2 .9-2 2v14c0 1.1.9 2 2 2h14c1.1 0 2-.9 2-2V5c0-1.1-.9-2-2-2zM9 17H7v-7h2v7zm4 0h-2V7h2v10zm4 0h-2v-4h2v4z\"/>\n",
              "    </g>\n",
              "</svg>\n",
              "  </button>\n",
              "\n",
              "<style>\n",
              "  .colab-df-quickchart {\n",
              "      --bg-color: #E8F0FE;\n",
              "      --fill-color: #1967D2;\n",
              "      --hover-bg-color: #E2EBFA;\n",
              "      --hover-fill-color: #174EA6;\n",
              "      --disabled-fill-color: #AAA;\n",
              "      --disabled-bg-color: #DDD;\n",
              "  }\n",
              "\n",
              "  [theme=dark] .colab-df-quickchart {\n",
              "      --bg-color: #3B4455;\n",
              "      --fill-color: #D2E3FC;\n",
              "      --hover-bg-color: #434B5C;\n",
              "      --hover-fill-color: #FFFFFF;\n",
              "      --disabled-bg-color: #3B4455;\n",
              "      --disabled-fill-color: #666;\n",
              "  }\n",
              "\n",
              "  .colab-df-quickchart {\n",
              "    background-color: var(--bg-color);\n",
              "    border: none;\n",
              "    border-radius: 50%;\n",
              "    cursor: pointer;\n",
              "    display: none;\n",
              "    fill: var(--fill-color);\n",
              "    height: 32px;\n",
              "    padding: 0;\n",
              "    width: 32px;\n",
              "  }\n",
              "\n",
              "  .colab-df-quickchart:hover {\n",
              "    background-color: var(--hover-bg-color);\n",
              "    box-shadow: 0 1px 2px rgba(60, 64, 67, 0.3), 0 1px 3px 1px rgba(60, 64, 67, 0.15);\n",
              "    fill: var(--button-hover-fill-color);\n",
              "  }\n",
              "\n",
              "  .colab-df-quickchart-complete:disabled,\n",
              "  .colab-df-quickchart-complete:disabled:hover {\n",
              "    background-color: var(--disabled-bg-color);\n",
              "    fill: var(--disabled-fill-color);\n",
              "    box-shadow: none;\n",
              "  }\n",
              "\n",
              "  .colab-df-spinner {\n",
              "    border: 2px solid var(--fill-color);\n",
              "    border-color: transparent;\n",
              "    border-bottom-color: var(--fill-color);\n",
              "    animation:\n",
              "      spin 1s steps(1) infinite;\n",
              "  }\n",
              "\n",
              "  @keyframes spin {\n",
              "    0% {\n",
              "      border-color: transparent;\n",
              "      border-bottom-color: var(--fill-color);\n",
              "      border-left-color: var(--fill-color);\n",
              "    }\n",
              "    20% {\n",
              "      border-color: transparent;\n",
              "      border-left-color: var(--fill-color);\n",
              "      border-top-color: var(--fill-color);\n",
              "    }\n",
              "    30% {\n",
              "      border-color: transparent;\n",
              "      border-left-color: var(--fill-color);\n",
              "      border-top-color: var(--fill-color);\n",
              "      border-right-color: var(--fill-color);\n",
              "    }\n",
              "    40% {\n",
              "      border-color: transparent;\n",
              "      border-right-color: var(--fill-color);\n",
              "      border-top-color: var(--fill-color);\n",
              "    }\n",
              "    60% {\n",
              "      border-color: transparent;\n",
              "      border-right-color: var(--fill-color);\n",
              "    }\n",
              "    80% {\n",
              "      border-color: transparent;\n",
              "      border-right-color: var(--fill-color);\n",
              "      border-bottom-color: var(--fill-color);\n",
              "    }\n",
              "    90% {\n",
              "      border-color: transparent;\n",
              "      border-bottom-color: var(--fill-color);\n",
              "    }\n",
              "  }\n",
              "</style>\n",
              "\n",
              "  <script>\n",
              "    async function quickchart(key) {\n",
              "      const quickchartButtonEl =\n",
              "        document.querySelector('#' + key + ' button');\n",
              "      quickchartButtonEl.disabled = true;  // To prevent multiple clicks.\n",
              "      quickchartButtonEl.classList.add('colab-df-spinner');\n",
              "      try {\n",
              "        const charts = await google.colab.kernel.invokeFunction(\n",
              "            'suggestCharts', [key], {});\n",
              "      } catch (error) {\n",
              "        console.error('Error during call to suggestCharts:', error);\n",
              "      }\n",
              "      quickchartButtonEl.classList.remove('colab-df-spinner');\n",
              "      quickchartButtonEl.classList.add('colab-df-quickchart-complete');\n",
              "    }\n",
              "    (() => {\n",
              "      let quickchartButtonEl =\n",
              "        document.querySelector('#df-30485c0f-a333-42d9-9717-ba3ecdb72ef4 button');\n",
              "      quickchartButtonEl.style.display =\n",
              "        google.colab.kernel.accessAllowed ? 'block' : 'none';\n",
              "    })();\n",
              "  </script>\n",
              "</div>\n",
              "\n",
              "  <div id=\"id_9a8bfe53-9ac6-4fe7-8712-3476d00df9b7\">\n",
              "    <style>\n",
              "      .colab-df-generate {\n",
              "        background-color: #E8F0FE;\n",
              "        border: none;\n",
              "        border-radius: 50%;\n",
              "        cursor: pointer;\n",
              "        display: none;\n",
              "        fill: #1967D2;\n",
              "        height: 32px;\n",
              "        padding: 0 0 0 0;\n",
              "        width: 32px;\n",
              "      }\n",
              "\n",
              "      .colab-df-generate:hover {\n",
              "        background-color: #E2EBFA;\n",
              "        box-shadow: 0px 1px 2px rgba(60, 64, 67, 0.3), 0px 1px 3px 1px rgba(60, 64, 67, 0.15);\n",
              "        fill: #174EA6;\n",
              "      }\n",
              "\n",
              "      [theme=dark] .colab-df-generate {\n",
              "        background-color: #3B4455;\n",
              "        fill: #D2E3FC;\n",
              "      }\n",
              "\n",
              "      [theme=dark] .colab-df-generate:hover {\n",
              "        background-color: #434B5C;\n",
              "        box-shadow: 0px 1px 3px 1px rgba(0, 0, 0, 0.15);\n",
              "        filter: drop-shadow(0px 1px 2px rgba(0, 0, 0, 0.3));\n",
              "        fill: #FFFFFF;\n",
              "      }\n",
              "    </style>\n",
              "    <button class=\"colab-df-generate\" onclick=\"generateWithVariable('data')\"\n",
              "            title=\"Generate code using this dataframe.\"\n",
              "            style=\"display:none;\">\n",
              "\n",
              "  <svg xmlns=\"http://www.w3.org/2000/svg\" height=\"24px\"viewBox=\"0 0 24 24\"\n",
              "       width=\"24px\">\n",
              "    <path d=\"M7,19H8.4L18.45,9,17,7.55,7,17.6ZM5,21V16.75L18.45,3.32a2,2,0,0,1,2.83,0l1.4,1.43a1.91,1.91,0,0,1,.58,1.4,1.91,1.91,0,0,1-.58,1.4L9.25,21ZM18.45,9,17,7.55Zm-12,3A5.31,5.31,0,0,0,4.9,8.1,5.31,5.31,0,0,0,1,6.5,5.31,5.31,0,0,0,4.9,4.9,5.31,5.31,0,0,0,6.5,1,5.31,5.31,0,0,0,8.1,4.9,5.31,5.31,0,0,0,12,6.5,5.46,5.46,0,0,0,6.5,12Z\"/>\n",
              "  </svg>\n",
              "    </button>\n",
              "    <script>\n",
              "      (() => {\n",
              "      const buttonEl =\n",
              "        document.querySelector('#id_9a8bfe53-9ac6-4fe7-8712-3476d00df9b7 button.colab-df-generate');\n",
              "      buttonEl.style.display =\n",
              "        google.colab.kernel.accessAllowed ? 'block' : 'none';\n",
              "\n",
              "      buttonEl.onclick = () => {\n",
              "        google.colab.notebook.generateWithVariable('data');\n",
              "      }\n",
              "      })();\n",
              "    </script>\n",
              "  </div>\n",
              "\n",
              "    </div>\n",
              "  </div>\n"
            ],
            "application/vnd.google.colaboratory.intrinsic+json": {
              "type": "dataframe",
              "variable_name": "data",
              "summary": "{\n  \"name\": \"data\",\n  \"rows\": 50,\n  \"fields\": [\n    {\n      \"column\": \"R&D Spend\",\n      \"properties\": {\n        \"dtype\": \"number\",\n        \"std\": 45902.25648230753,\n        \"min\": 0.0,\n        \"max\": 165349.2,\n        \"num_unique_values\": 49,\n        \"samples\": [\n          91992.39,\n          1000.23,\n          0.0\n        ],\n        \"semantic_type\": \"\",\n        \"description\": \"\"\n      }\n    },\n    {\n      \"column\": \"Administration\",\n      \"properties\": {\n        \"dtype\": \"number\",\n        \"std\": 28017.802755488683,\n        \"min\": 51283.14,\n        \"max\": 182645.56,\n        \"num_unique_values\": 50,\n        \"samples\": [\n          135495.07,\n          82982.09,\n          115641.28\n        ],\n        \"semantic_type\": \"\",\n        \"description\": \"\"\n      }\n    },\n    {\n      \"column\": \"Marketing Spend\",\n      \"properties\": {\n        \"dtype\": \"number\",\n        \"std\": 122290.31072584528,\n        \"min\": 0.0,\n        \"max\": 471784.1,\n        \"num_unique_values\": 48,\n        \"samples\": [\n          353183.81,\n          172795.67,\n          134050.07\n        ],\n        \"semantic_type\": \"\",\n        \"description\": \"\"\n      }\n    },\n    {\n      \"column\": \"State\",\n      \"properties\": {\n        \"dtype\": \"category\",\n        \"num_unique_values\": 3,\n        \"samples\": [\n          \"New York\",\n          \"California\",\n          \"Florida\"\n        ],\n        \"semantic_type\": \"\",\n        \"description\": \"\"\n      }\n    },\n    {\n      \"column\": \"Profit\",\n      \"properties\": {\n        \"dtype\": \"number\",\n        \"std\": 40306.18033765055,\n        \"min\": 14681.4,\n        \"max\": 192261.83,\n        \"num_unique_values\": 50,\n        \"samples\": [\n          134307.35,\n          81005.76,\n          99937.59\n        ],\n        \"semantic_type\": \"\",\n        \"description\": \"\"\n      }\n    }\n  ]\n}"
            }
          },
          "metadata": {},
          "execution_count": 3
        }
      ]
    },
    {
      "cell_type": "code",
      "source": [
        "x=data.iloc[:,:-1].values"
      ],
      "metadata": {
        "id": "7PCUMlAVo5x4"
      },
      "execution_count": 4,
      "outputs": []
    },
    {
      "cell_type": "code",
      "source": [
        "y=data.iloc[:,-1].values"
      ],
      "metadata": {
        "id": "0BiG-Bbho8ve"
      },
      "execution_count": 5,
      "outputs": []
    },
    {
      "cell_type": "code",
      "source": [
        "x"
      ],
      "metadata": {
        "colab": {
          "base_uri": "https://localhost:8080/"
        },
        "id": "tb6yCtSdo_Y_",
        "outputId": "bdbd3922-175d-4a94-8333-d975208e9e99"
      },
      "execution_count": 6,
      "outputs": [
        {
          "output_type": "execute_result",
          "data": {
            "text/plain": [
              "array([[165349.2, 136897.8, 471784.1, 'New York'],\n",
              "       [162597.7, 151377.59, 443898.53, 'California'],\n",
              "       [153441.51, 101145.55, 407934.54, 'Florida'],\n",
              "       [144372.41, 118671.85, 383199.62, 'New York'],\n",
              "       [142107.34, 91391.77, 366168.42, 'Florida'],\n",
              "       [131876.9, 99814.71, 362861.36, 'New York'],\n",
              "       [134615.46, 147198.87, 127716.82, 'California'],\n",
              "       [130298.13, 145530.06, 323876.68, 'Florida'],\n",
              "       [120542.52, 148718.95, 311613.29, 'New York'],\n",
              "       [123334.88, 108679.17, 304981.62, 'California'],\n",
              "       [101913.08, 110594.11, 229160.95, 'Florida'],\n",
              "       [100671.96, 91790.61, 249744.55, 'California'],\n",
              "       [93863.75, 127320.38, 249839.44, 'Florida'],\n",
              "       [91992.39, 135495.07, 252664.93, 'California'],\n",
              "       [119943.24, 156547.42, 256512.92, 'Florida'],\n",
              "       [114523.61, 122616.84, 261776.23, 'New York'],\n",
              "       [78013.11, 121597.55, 264346.06, 'California'],\n",
              "       [94657.16, 145077.58, 282574.31, 'New York'],\n",
              "       [91749.16, 114175.79, 294919.57, 'Florida'],\n",
              "       [86419.7, 153514.11, 0.0, 'New York'],\n",
              "       [76253.86, 113867.3, 298664.47, 'California'],\n",
              "       [78389.47, 153773.43, 299737.29, 'New York'],\n",
              "       [73994.56, 122782.75, 303319.26, 'Florida'],\n",
              "       [67532.53, 105751.03, 304768.73, 'Florida'],\n",
              "       [77044.01, 99281.34, 140574.81, 'New York'],\n",
              "       [64664.71, 139553.16, 137962.62, 'California'],\n",
              "       [75328.87, 144135.98, 134050.07, 'Florida'],\n",
              "       [72107.6, 127864.55, 353183.81, 'New York'],\n",
              "       [66051.52, 182645.56, 118148.2, 'Florida'],\n",
              "       [65605.48, 153032.06, 107138.38, 'New York'],\n",
              "       [61994.48, 115641.28, 91131.24, 'Florida'],\n",
              "       [61136.38, 152701.92, 88218.23, 'New York'],\n",
              "       [63408.86, 129219.61, 46085.25, 'California'],\n",
              "       [55493.95, 103057.49, 214634.81, 'Florida'],\n",
              "       [46426.07, 157693.92, 210797.67, 'California'],\n",
              "       [46014.02, 85047.44, 205517.64, 'New York'],\n",
              "       [28663.76, 127056.21, 201126.82, 'Florida'],\n",
              "       [44069.95, 51283.14, 197029.42, 'California'],\n",
              "       [20229.59, 65947.93, 185265.1, 'New York'],\n",
              "       [38558.51, 82982.09, 174999.3, 'California'],\n",
              "       [28754.33, 118546.05, 172795.67, 'California'],\n",
              "       [27892.92, 84710.77, 164470.71, 'Florida'],\n",
              "       [23640.93, 96189.63, 148001.11, 'California'],\n",
              "       [15505.73, 127382.3, 35534.17, 'New York'],\n",
              "       [22177.74, 154806.14, 28334.72, 'California'],\n",
              "       [1000.23, 124153.04, 1903.93, 'New York'],\n",
              "       [1315.46, 115816.21, 297114.46, 'Florida'],\n",
              "       [0.0, 135426.92, 0.0, 'California'],\n",
              "       [542.05, 51743.15, 0.0, 'New York'],\n",
              "       [0.0, 116983.8, 45173.06, 'California']], dtype=object)"
            ]
          },
          "metadata": {},
          "execution_count": 6
        }
      ]
    },
    {
      "cell_type": "code",
      "source": [
        "y"
      ],
      "metadata": {
        "colab": {
          "base_uri": "https://localhost:8080/"
        },
        "id": "rtV_t_cdpA0y",
        "outputId": "bdacdd0f-6276-4364-d0b8-071e73105b0e"
      },
      "execution_count": 7,
      "outputs": [
        {
          "output_type": "execute_result",
          "data": {
            "text/plain": [
              "array([192261.83, 191792.06, 191050.39, 182901.99, 166187.94, 156991.12,\n",
              "       156122.51, 155752.6 , 152211.77, 149759.96, 146121.95, 144259.4 ,\n",
              "       141585.52, 134307.35, 132602.65, 129917.04, 126992.93, 125370.37,\n",
              "       124266.9 , 122776.86, 118474.03, 111313.02, 110352.25, 108733.99,\n",
              "       108552.04, 107404.34, 105733.54, 105008.31, 103282.38, 101004.64,\n",
              "        99937.59,  97483.56,  97427.84,  96778.92,  96712.8 ,  96479.51,\n",
              "        90708.19,  89949.14,  81229.06,  81005.76,  78239.91,  77798.83,\n",
              "        71498.49,  69758.98,  65200.33,  64926.08,  49490.75,  42559.73,\n",
              "        35673.41,  14681.4 ])"
            ]
          },
          "metadata": {},
          "execution_count": 7
        }
      ]
    },
    {
      "cell_type": "markdown",
      "source": [
        "**Encoding categorical data**"
      ],
      "metadata": {
        "id": "1tQTn-wSpFFa"
      }
    },
    {
      "cell_type": "code",
      "source": [
        "from sklearn.compose import ColumnTransformer\n",
        "from sklearn.preprocessing import OneHotEncoder"
      ],
      "metadata": {
        "id": "YzZIAJFnpCKP"
      },
      "execution_count": 8,
      "outputs": []
    },
    {
      "cell_type": "code",
      "source": [
        "ct = ColumnTransformer(transformers=[('encoder', OneHotEncoder(), [3])], remainder='passthrough')"
      ],
      "metadata": {
        "id": "huPFey8hpLx6"
      },
      "execution_count": 9,
      "outputs": []
    },
    {
      "cell_type": "code",
      "source": [
        "x = np.array(ct.fit_transform(x))"
      ],
      "metadata": {
        "id": "PNk5LMpMpPwl"
      },
      "execution_count": 10,
      "outputs": []
    },
    {
      "cell_type": "code",
      "source": [
        "x"
      ],
      "metadata": {
        "colab": {
          "base_uri": "https://localhost:8080/"
        },
        "id": "ctA-Mb_8pTYq",
        "outputId": "9a6ec380-9c75-4e0f-acff-fe765f7bea22"
      },
      "execution_count": 11,
      "outputs": [
        {
          "output_type": "execute_result",
          "data": {
            "text/plain": [
              "array([[0.0, 0.0, 1.0, 165349.2, 136897.8, 471784.1],\n",
              "       [1.0, 0.0, 0.0, 162597.7, 151377.59, 443898.53],\n",
              "       [0.0, 1.0, 0.0, 153441.51, 101145.55, 407934.54],\n",
              "       [0.0, 0.0, 1.0, 144372.41, 118671.85, 383199.62],\n",
              "       [0.0, 1.0, 0.0, 142107.34, 91391.77, 366168.42],\n",
              "       [0.0, 0.0, 1.0, 131876.9, 99814.71, 362861.36],\n",
              "       [1.0, 0.0, 0.0, 134615.46, 147198.87, 127716.82],\n",
              "       [0.0, 1.0, 0.0, 130298.13, 145530.06, 323876.68],\n",
              "       [0.0, 0.0, 1.0, 120542.52, 148718.95, 311613.29],\n",
              "       [1.0, 0.0, 0.0, 123334.88, 108679.17, 304981.62],\n",
              "       [0.0, 1.0, 0.0, 101913.08, 110594.11, 229160.95],\n",
              "       [1.0, 0.0, 0.0, 100671.96, 91790.61, 249744.55],\n",
              "       [0.0, 1.0, 0.0, 93863.75, 127320.38, 249839.44],\n",
              "       [1.0, 0.0, 0.0, 91992.39, 135495.07, 252664.93],\n",
              "       [0.0, 1.0, 0.0, 119943.24, 156547.42, 256512.92],\n",
              "       [0.0, 0.0, 1.0, 114523.61, 122616.84, 261776.23],\n",
              "       [1.0, 0.0, 0.0, 78013.11, 121597.55, 264346.06],\n",
              "       [0.0, 0.0, 1.0, 94657.16, 145077.58, 282574.31],\n",
              "       [0.0, 1.0, 0.0, 91749.16, 114175.79, 294919.57],\n",
              "       [0.0, 0.0, 1.0, 86419.7, 153514.11, 0.0],\n",
              "       [1.0, 0.0, 0.0, 76253.86, 113867.3, 298664.47],\n",
              "       [0.0, 0.0, 1.0, 78389.47, 153773.43, 299737.29],\n",
              "       [0.0, 1.0, 0.0, 73994.56, 122782.75, 303319.26],\n",
              "       [0.0, 1.0, 0.0, 67532.53, 105751.03, 304768.73],\n",
              "       [0.0, 0.0, 1.0, 77044.01, 99281.34, 140574.81],\n",
              "       [1.0, 0.0, 0.0, 64664.71, 139553.16, 137962.62],\n",
              "       [0.0, 1.0, 0.0, 75328.87, 144135.98, 134050.07],\n",
              "       [0.0, 0.0, 1.0, 72107.6, 127864.55, 353183.81],\n",
              "       [0.0, 1.0, 0.0, 66051.52, 182645.56, 118148.2],\n",
              "       [0.0, 0.0, 1.0, 65605.48, 153032.06, 107138.38],\n",
              "       [0.0, 1.0, 0.0, 61994.48, 115641.28, 91131.24],\n",
              "       [0.0, 0.0, 1.0, 61136.38, 152701.92, 88218.23],\n",
              "       [1.0, 0.0, 0.0, 63408.86, 129219.61, 46085.25],\n",
              "       [0.0, 1.0, 0.0, 55493.95, 103057.49, 214634.81],\n",
              "       [1.0, 0.0, 0.0, 46426.07, 157693.92, 210797.67],\n",
              "       [0.0, 0.0, 1.0, 46014.02, 85047.44, 205517.64],\n",
              "       [0.0, 1.0, 0.0, 28663.76, 127056.21, 201126.82],\n",
              "       [1.0, 0.0, 0.0, 44069.95, 51283.14, 197029.42],\n",
              "       [0.0, 0.0, 1.0, 20229.59, 65947.93, 185265.1],\n",
              "       [1.0, 0.0, 0.0, 38558.51, 82982.09, 174999.3],\n",
              "       [1.0, 0.0, 0.0, 28754.33, 118546.05, 172795.67],\n",
              "       [0.0, 1.0, 0.0, 27892.92, 84710.77, 164470.71],\n",
              "       [1.0, 0.0, 0.0, 23640.93, 96189.63, 148001.11],\n",
              "       [0.0, 0.0, 1.0, 15505.73, 127382.3, 35534.17],\n",
              "       [1.0, 0.0, 0.0, 22177.74, 154806.14, 28334.72],\n",
              "       [0.0, 0.0, 1.0, 1000.23, 124153.04, 1903.93],\n",
              "       [0.0, 1.0, 0.0, 1315.46, 115816.21, 297114.46],\n",
              "       [1.0, 0.0, 0.0, 0.0, 135426.92, 0.0],\n",
              "       [0.0, 0.0, 1.0, 542.05, 51743.15, 0.0],\n",
              "       [1.0, 0.0, 0.0, 0.0, 116983.8, 45173.06]], dtype=object)"
            ]
          },
          "metadata": {},
          "execution_count": 11
        }
      ]
    },
    {
      "cell_type": "markdown",
      "source": [
        "Split the data"
      ],
      "metadata": {
        "id": "CCARMqevpYXP"
      }
    },
    {
      "cell_type": "code",
      "source": [
        "from sklearn.model_selection import train_test_split"
      ],
      "metadata": {
        "id": "mloKgoPJpZzo"
      },
      "execution_count": 12,
      "outputs": []
    },
    {
      "cell_type": "code",
      "source": [
        "x_train,x_test,y_train,y_test = train_test_split(x,y,test_size=0.2,random_state=0)"
      ],
      "metadata": {
        "id": "UJSv6BfIpdNI"
      },
      "execution_count": 13,
      "outputs": []
    },
    {
      "cell_type": "code",
      "source": [
        "x_train"
      ],
      "metadata": {
        "colab": {
          "base_uri": "https://localhost:8080/"
        },
        "id": "cavxiEpxpi8l",
        "outputId": "30f3a050-4146-4e3a-9b01-c51f5c906156"
      },
      "execution_count": 14,
      "outputs": [
        {
          "output_type": "execute_result",
          "data": {
            "text/plain": [
              "array([[0.0, 1.0, 0.0, 55493.95, 103057.49, 214634.81],\n",
              "       [0.0, 0.0, 1.0, 46014.02, 85047.44, 205517.64],\n",
              "       [0.0, 1.0, 0.0, 75328.87, 144135.98, 134050.07],\n",
              "       [1.0, 0.0, 0.0, 46426.07, 157693.92, 210797.67],\n",
              "       [0.0, 1.0, 0.0, 91749.16, 114175.79, 294919.57],\n",
              "       [0.0, 1.0, 0.0, 130298.13, 145530.06, 323876.68],\n",
              "       [0.0, 1.0, 0.0, 119943.24, 156547.42, 256512.92],\n",
              "       [0.0, 0.0, 1.0, 1000.23, 124153.04, 1903.93],\n",
              "       [0.0, 0.0, 1.0, 542.05, 51743.15, 0.0],\n",
              "       [0.0, 0.0, 1.0, 65605.48, 153032.06, 107138.38],\n",
              "       [0.0, 0.0, 1.0, 114523.61, 122616.84, 261776.23],\n",
              "       [0.0, 1.0, 0.0, 61994.48, 115641.28, 91131.24],\n",
              "       [1.0, 0.0, 0.0, 63408.86, 129219.61, 46085.25],\n",
              "       [1.0, 0.0, 0.0, 78013.11, 121597.55, 264346.06],\n",
              "       [1.0, 0.0, 0.0, 23640.93, 96189.63, 148001.11],\n",
              "       [1.0, 0.0, 0.0, 76253.86, 113867.3, 298664.47],\n",
              "       [0.0, 0.0, 1.0, 15505.73, 127382.3, 35534.17],\n",
              "       [0.0, 0.0, 1.0, 120542.52, 148718.95, 311613.29],\n",
              "       [1.0, 0.0, 0.0, 91992.39, 135495.07, 252664.93],\n",
              "       [1.0, 0.0, 0.0, 64664.71, 139553.16, 137962.62],\n",
              "       [0.0, 0.0, 1.0, 131876.9, 99814.71, 362861.36],\n",
              "       [0.0, 0.0, 1.0, 94657.16, 145077.58, 282574.31],\n",
              "       [1.0, 0.0, 0.0, 28754.33, 118546.05, 172795.67],\n",
              "       [1.0, 0.0, 0.0, 0.0, 116983.8, 45173.06],\n",
              "       [1.0, 0.0, 0.0, 162597.7, 151377.59, 443898.53],\n",
              "       [0.0, 1.0, 0.0, 93863.75, 127320.38, 249839.44],\n",
              "       [1.0, 0.0, 0.0, 44069.95, 51283.14, 197029.42],\n",
              "       [0.0, 0.0, 1.0, 77044.01, 99281.34, 140574.81],\n",
              "       [1.0, 0.0, 0.0, 134615.46, 147198.87, 127716.82],\n",
              "       [0.0, 1.0, 0.0, 67532.53, 105751.03, 304768.73],\n",
              "       [0.0, 1.0, 0.0, 28663.76, 127056.21, 201126.82],\n",
              "       [0.0, 0.0, 1.0, 78389.47, 153773.43, 299737.29],\n",
              "       [0.0, 0.0, 1.0, 86419.7, 153514.11, 0.0],\n",
              "       [1.0, 0.0, 0.0, 123334.88, 108679.17, 304981.62],\n",
              "       [1.0, 0.0, 0.0, 38558.51, 82982.09, 174999.3],\n",
              "       [0.0, 1.0, 0.0, 1315.46, 115816.21, 297114.46],\n",
              "       [0.0, 0.0, 1.0, 144372.41, 118671.85, 383199.62],\n",
              "       [0.0, 0.0, 1.0, 165349.2, 136897.8, 471784.1],\n",
              "       [1.0, 0.0, 0.0, 0.0, 135426.92, 0.0],\n",
              "       [1.0, 0.0, 0.0, 22177.74, 154806.14, 28334.72]], dtype=object)"
            ]
          },
          "metadata": {},
          "execution_count": 14
        }
      ]
    },
    {
      "cell_type": "code",
      "source": [
        "y_train"
      ],
      "metadata": {
        "colab": {
          "base_uri": "https://localhost:8080/"
        },
        "id": "eel5KGnnpmN5",
        "outputId": "681a2178-f7a1-4100-863f-e8018f7134e8"
      },
      "execution_count": 15,
      "outputs": [
        {
          "output_type": "execute_result",
          "data": {
            "text/plain": [
              "array([ 96778.92,  96479.51, 105733.54,  96712.8 , 124266.9 , 155752.6 ,\n",
              "       132602.65,  64926.08,  35673.41, 101004.64, 129917.04,  99937.59,\n",
              "        97427.84, 126992.93,  71498.49, 118474.03,  69758.98, 152211.77,\n",
              "       134307.35, 107404.34, 156991.12, 125370.37,  78239.91,  14681.4 ,\n",
              "       191792.06, 141585.52,  89949.14, 108552.04, 156122.51, 108733.99,\n",
              "        90708.19, 111313.02, 122776.86, 149759.96,  81005.76,  49490.75,\n",
              "       182901.99, 192261.83,  42559.73,  65200.33])"
            ]
          },
          "metadata": {},
          "execution_count": 15
        }
      ]
    },
    {
      "cell_type": "code",
      "source": [
        "len(y_train)"
      ],
      "metadata": {
        "colab": {
          "base_uri": "https://localhost:8080/"
        },
        "id": "yrtagEoipnla",
        "outputId": "9ffff592-9b96-438e-d911-ad839d7ee646"
      },
      "execution_count": 16,
      "outputs": [
        {
          "output_type": "execute_result",
          "data": {
            "text/plain": [
              "40"
            ]
          },
          "metadata": {},
          "execution_count": 16
        }
      ]
    },
    {
      "cell_type": "code",
      "source": [
        "len(y_test)"
      ],
      "metadata": {
        "colab": {
          "base_uri": "https://localhost:8080/"
        },
        "id": "Znj0pkFWppmS",
        "outputId": "670eebef-8c31-492e-e95c-15aa23a0d028"
      },
      "execution_count": 17,
      "outputs": [
        {
          "output_type": "execute_result",
          "data": {
            "text/plain": [
              "10"
            ]
          },
          "metadata": {},
          "execution_count": 17
        }
      ]
    },
    {
      "cell_type": "markdown",
      "source": [
        "Model"
      ],
      "metadata": {
        "id": "wd-uOt4opuCK"
      }
    },
    {
      "cell_type": "code",
      "source": [
        "from  sklearn.linear_model import LinearRegression"
      ],
      "metadata": {
        "id": "SkFQnBkHprVE"
      },
      "execution_count": 18,
      "outputs": []
    },
    {
      "cell_type": "code",
      "source": [
        "reg=LinearRegression()\n"
      ],
      "metadata": {
        "id": "LdhC48v5p2GQ"
      },
      "execution_count": 19,
      "outputs": []
    },
    {
      "cell_type": "code",
      "source": [
        "reg.fit(x_train,y_train)"
      ],
      "metadata": {
        "colab": {
          "base_uri": "https://localhost:8080/",
          "height": 74
        },
        "id": "WpHm2r41p4bf",
        "outputId": "8d7aeeed-8a8e-4529-895d-7499d0305294"
      },
      "execution_count": 20,
      "outputs": [
        {
          "output_type": "execute_result",
          "data": {
            "text/plain": [
              "LinearRegression()"
            ],
            "text/html": [
              "<style>#sk-container-id-1 {color: black;background-color: white;}#sk-container-id-1 pre{padding: 0;}#sk-container-id-1 div.sk-toggleable {background-color: white;}#sk-container-id-1 label.sk-toggleable__label {cursor: pointer;display: block;width: 100%;margin-bottom: 0;padding: 0.3em;box-sizing: border-box;text-align: center;}#sk-container-id-1 label.sk-toggleable__label-arrow:before {content: \"▸\";float: left;margin-right: 0.25em;color: #696969;}#sk-container-id-1 label.sk-toggleable__label-arrow:hover:before {color: black;}#sk-container-id-1 div.sk-estimator:hover label.sk-toggleable__label-arrow:before {color: black;}#sk-container-id-1 div.sk-toggleable__content {max-height: 0;max-width: 0;overflow: hidden;text-align: left;background-color: #f0f8ff;}#sk-container-id-1 div.sk-toggleable__content pre {margin: 0.2em;color: black;border-radius: 0.25em;background-color: #f0f8ff;}#sk-container-id-1 input.sk-toggleable__control:checked~div.sk-toggleable__content {max-height: 200px;max-width: 100%;overflow: auto;}#sk-container-id-1 input.sk-toggleable__control:checked~label.sk-toggleable__label-arrow:before {content: \"▾\";}#sk-container-id-1 div.sk-estimator input.sk-toggleable__control:checked~label.sk-toggleable__label {background-color: #d4ebff;}#sk-container-id-1 div.sk-label input.sk-toggleable__control:checked~label.sk-toggleable__label {background-color: #d4ebff;}#sk-container-id-1 input.sk-hidden--visually {border: 0;clip: rect(1px 1px 1px 1px);clip: rect(1px, 1px, 1px, 1px);height: 1px;margin: -1px;overflow: hidden;padding: 0;position: absolute;width: 1px;}#sk-container-id-1 div.sk-estimator {font-family: monospace;background-color: #f0f8ff;border: 1px dotted black;border-radius: 0.25em;box-sizing: border-box;margin-bottom: 0.5em;}#sk-container-id-1 div.sk-estimator:hover {background-color: #d4ebff;}#sk-container-id-1 div.sk-parallel-item::after {content: \"\";width: 100%;border-bottom: 1px solid gray;flex-grow: 1;}#sk-container-id-1 div.sk-label:hover label.sk-toggleable__label {background-color: #d4ebff;}#sk-container-id-1 div.sk-serial::before {content: \"\";position: absolute;border-left: 1px solid gray;box-sizing: border-box;top: 0;bottom: 0;left: 50%;z-index: 0;}#sk-container-id-1 div.sk-serial {display: flex;flex-direction: column;align-items: center;background-color: white;padding-right: 0.2em;padding-left: 0.2em;position: relative;}#sk-container-id-1 div.sk-item {position: relative;z-index: 1;}#sk-container-id-1 div.sk-parallel {display: flex;align-items: stretch;justify-content: center;background-color: white;position: relative;}#sk-container-id-1 div.sk-item::before, #sk-container-id-1 div.sk-parallel-item::before {content: \"\";position: absolute;border-left: 1px solid gray;box-sizing: border-box;top: 0;bottom: 0;left: 50%;z-index: -1;}#sk-container-id-1 div.sk-parallel-item {display: flex;flex-direction: column;z-index: 1;position: relative;background-color: white;}#sk-container-id-1 div.sk-parallel-item:first-child::after {align-self: flex-end;width: 50%;}#sk-container-id-1 div.sk-parallel-item:last-child::after {align-self: flex-start;width: 50%;}#sk-container-id-1 div.sk-parallel-item:only-child::after {width: 0;}#sk-container-id-1 div.sk-dashed-wrapped {border: 1px dashed gray;margin: 0 0.4em 0.5em 0.4em;box-sizing: border-box;padding-bottom: 0.4em;background-color: white;}#sk-container-id-1 div.sk-label label {font-family: monospace;font-weight: bold;display: inline-block;line-height: 1.2em;}#sk-container-id-1 div.sk-label-container {text-align: center;}#sk-container-id-1 div.sk-container {/* jupyter's `normalize.less` sets `[hidden] { display: none; }` but bootstrap.min.css set `[hidden] { display: none !important; }` so we also need the `!important` here to be able to override the default hidden behavior on the sphinx rendered scikit-learn.org. See: https://github.com/scikit-learn/scikit-learn/issues/21755 */display: inline-block !important;position: relative;}#sk-container-id-1 div.sk-text-repr-fallback {display: none;}</style><div id=\"sk-container-id-1\" class=\"sk-top-container\"><div class=\"sk-text-repr-fallback\"><pre>LinearRegression()</pre><b>In a Jupyter environment, please rerun this cell to show the HTML representation or trust the notebook. <br />On GitHub, the HTML representation is unable to render, please try loading this page with nbviewer.org.</b></div><div class=\"sk-container\" hidden><div class=\"sk-item\"><div class=\"sk-estimator sk-toggleable\"><input class=\"sk-toggleable__control sk-hidden--visually\" id=\"sk-estimator-id-1\" type=\"checkbox\" checked><label for=\"sk-estimator-id-1\" class=\"sk-toggleable__label sk-toggleable__label-arrow\">LinearRegression</label><div class=\"sk-toggleable__content\"><pre>LinearRegression()</pre></div></div></div></div></div>"
            ]
          },
          "metadata": {},
          "execution_count": 20
        }
      ]
    },
    {
      "cell_type": "markdown",
      "source": [
        "Predict"
      ],
      "metadata": {
        "id": "WC_dJDvap920"
      }
    },
    {
      "cell_type": "code",
      "source": [
        "y_pred = reg.predict(x_test)"
      ],
      "metadata": {
        "id": "_bCg7RuTp8TX"
      },
      "execution_count": 21,
      "outputs": []
    },
    {
      "cell_type": "code",
      "source": [
        "y_pred"
      ],
      "metadata": {
        "colab": {
          "base_uri": "https://localhost:8080/"
        },
        "id": "YA3avf-PqBaM",
        "outputId": "17155ba8-6118-40c3-ec28-a4d5e37413a7"
      },
      "execution_count": 22,
      "outputs": [
        {
          "output_type": "execute_result",
          "data": {
            "text/plain": [
              "array([103015.20159795, 132582.27760816, 132447.73845175,  71976.09851258,\n",
              "       178537.48221057, 116161.24230167,  67851.69209676,  98791.73374687,\n",
              "       113969.43533014, 167921.06569552])"
            ]
          },
          "metadata": {},
          "execution_count": 22
        }
      ]
    },
    {
      "cell_type": "code",
      "source": [
        "y_test"
      ],
      "metadata": {
        "colab": {
          "base_uri": "https://localhost:8080/"
        },
        "id": "F2MIQ52vqDA2",
        "outputId": "c5159c83-ffba-4620-b150-3698b13512c0"
      },
      "execution_count": 23,
      "outputs": [
        {
          "output_type": "execute_result",
          "data": {
            "text/plain": [
              "array([103282.38, 144259.4 , 146121.95,  77798.83, 191050.39, 105008.31,\n",
              "        81229.06,  97483.56, 110352.25, 166187.94])"
            ]
          },
          "metadata": {},
          "execution_count": 23
        }
      ]
    },
    {
      "cell_type": "code",
      "source": [
        "np.set_printoptions(precision=2)"
      ],
      "metadata": {
        "id": "NlhUGhEpqFDp"
      },
      "execution_count": 24,
      "outputs": []
    },
    {
      "cell_type": "code",
      "source": [
        "print(np.concatenate((y_pred.reshape(len(y_pred),1),y_test.reshape(len(y_test),1)),1)"
      ],
      "metadata": {
        "colab": {
          "base_uri": "https://localhost:8080/",
          "height": 161
        },
        "id": "zw2DfG0LqNje",
        "outputId": "318204ea-1a2f-450a-98fe-dafadb4d287a"
      },
      "execution_count": 26,
      "outputs": [
        {
          "output_type": "error",
          "ename": "SyntaxError",
          "evalue": "incomplete input (<ipython-input-26-cb1c731d5acd>, line 1)",
          "traceback": [
            "\u001b[0;36m  File \u001b[0;32m\"<ipython-input-26-cb1c731d5acd>\"\u001b[0;36m, line \u001b[0;32m1\u001b[0m\n\u001b[0;31m    print(np.concatenate((y_pred.reshape(len(y_pred),1),y_test.reshape(len(y_test),1)),1)\u001b[0m\n\u001b[0m                                                                                         ^\u001b[0m\n\u001b[0;31mSyntaxError\u001b[0m\u001b[0;31m:\u001b[0m incomplete input\n"
          ]
        }
      ]
    }
  ]
}